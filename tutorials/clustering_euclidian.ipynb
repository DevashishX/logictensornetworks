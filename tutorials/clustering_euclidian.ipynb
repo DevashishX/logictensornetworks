{
 "cells": [
  {
   "cell_type": "markdown",
   "metadata": {},
   "source": [
    "## Clustering with Logic Tensor Networks"
   ]
  },
  {
   "cell_type": "markdown",
   "metadata": {},
   "source": [
    "This is a basic example in which we use LTN for unsupervised clustering in a 2d space of real numbers. We define a theory that encodes the following facts\n",
    "* every point in the sample set should be assigned to a cluster\n",
    "* clusters should be to be disjoint\n",
    "* if two points are close (in terms of euclidian distance), they should belong to the same cluster\n",
    "\n",
    "We start generating normally distributed samples from $\\mathrm{nr\\_of\\_clusters}$ clusters. We use this to setup the theory and then optimize a loss function defined on the theory."
   ]
  },
  {
   "cell_type": "code",
   "execution_count": 1,
   "metadata": {},
   "outputs": [],
   "source": [
    "import logging; logging.basicConfig(level=logging.INFO)\n",
    "import tensorflow as tf\n",
    "import numpy as np\n",
    "import matplotlib.pyplot as plt\n",
    "\n",
    "# adding parent directory to sys.path (ltnw is in parent dir)\n",
    "import sys, os\n",
    "sys.path.insert(0,os.path.normpath(os.path.join(os.path.abspath(''),os.path.pardir)))\n",
    "import logictensornetworks_wrapper as ltnw\n",
    "ltnw.ltn.set_universal_aggreg(\"min\")\n",
    "ltnw.ltn.set_existential_aggregator(\"max\")\n",
    "ltnw.ltn.set_tnorm(\"prod\")\n",
    "ltnw.ltn.LAYERS = 4\n",
    "import logictensornetworks_library as ltnl"
   ]
  },
  {
   "cell_type": "markdown",
   "metadata": {},
   "source": [
    "Generate $\\mathrm{nr\\_of\\_points\\_x\\_cluster}$ samples for $\\mathrm{nr\\_of\\_clusters}$ clusters. Every sample is drawn from a normal distribution that is the underlying generator for each cluster. Samples from $\\mathbb{R}$^2"
   ]
  },
  {
   "cell_type": "code",
   "execution_count": 2,
   "metadata": {},
   "outputs": [],
   "source": [
    "nr_of_clusters = 2\n",
    "nr_of_points_x_cluster = 10\n",
    "cov = np.array([[.01,0],[0,.01]])\n",
    "\n",
    "clusters=[]\n",
    "for i in range(nr_of_clusters):\n",
    "    mean = np.random.uniform([-1,-1],[1,1],2).astype(np.float32)    \n",
    "    clusters.append(np.random.multivariate_normal(mean=mean,cov=cov,size=nr_of_points_x_cluster).astype(np.float32) )"
   ]
  },
  {
   "cell_type": "markdown",
   "metadata": {},
   "source": [
    "Every cluster is represented by a unary predicate $C_0,..C_{\\mathrm{nr\\_of\\_clusters}-1}$"
   ]
  },
  {
   "cell_type": "code",
   "execution_count": 3,
   "metadata": {},
   "outputs": [
    {
     "name": "stdout",
     "output_type": "stream",
     "text": [
      "C_0\n",
      "C_1\n"
     ]
    }
   ],
   "source": [
    "[ltnw.predicate(\"C_\"+str(i),2) for i in range(nr_of_clusters)]\n",
    "print(\"\\n\".join(ltnw.PREDICATES.keys()))"
   ]
  },
  {
   "cell_type": "markdown",
   "metadata": {},
   "source": [
    "We define the theory using a number of variables. First, we define two variables $x,y$ that encompass the complete sample set."
   ]
  },
  {
   "cell_type": "code",
   "execution_count": 4,
   "metadata": {},
   "outputs": [],
   "source": [
    "data  = np.concatenate(clusters)\n",
    "ltnw.variable(\"?x\",data);\n",
    "ltnw.variable(\"?y\",data);"
   ]
  },
  {
   "cell_type": "markdown",
   "metadata": {},
   "source": [
    "We define a function close takes an exponential envelope of the euclidian distance of two vectors. It is something like a euclidian similarity."
   ]
  },
  {
   "cell_type": "code",
   "execution_count": 5,
   "metadata": {},
   "outputs": [],
   "source": [
    "ltnw.predicate(\"close\",2,ltnl.equal_euclidian);\n"
   ]
  },
  {
   "cell_type": "markdown",
   "metadata": {},
   "source": [
    "Next we can define the theory."
   ]
  },
  {
   "cell_type": "code",
   "execution_count": 6,
   "metadata": {},
   "outputs": [
    {
     "name": "stdout",
     "output_type": "stream",
     "text": [
      "exists ?x: C_0(?x)\n",
      "exists ?x: C_1(?x)\n",
      "forall ?x,?y: (C_0(?x) & close(?x,?y)) -> C_0(?y)\n",
      "forall ?x,?y: (C_0(?x) & ~close(?x,?y)) -> (C_1(?y))\n",
      "forall ?x,?y: (C_1(?x) & close(?x,?y)) -> C_1(?y)\n",
      "forall ?x,?y: (C_1(?x) & ~close(?x,?y)) -> (C_0(?y))\n",
      "forall ?x: C_0(?x)|C_1(?x)\n",
      "forall ?x: ~(C_0(?x) & C_1(?x))\n"
     ]
    }
   ],
   "source": [
    "ltnw.axiom(\"forall ?x: %s\" % \"|\".join([\"C_%s(?x)\" % i for i in range(nr_of_clusters)]))\n",
    "for i in range(nr_of_clusters):\n",
    "    ltnw.axiom(\"exists ?x: C_%s(?x)\" % i)\n",
    "    ltnw.axiom(\"forall ?x,?y: (C_%s(?x) & close(?x,?y)) -> C_%s(?y)\" % (i,i))\n",
    "    ltnw.axiom(\"forall ?x,?y: (C_%s(?x) & ~close(?x,?y)) -> (%s)\" % (i,\"|\".join([\"C_%s(?y)\" % j for j in range(nr_of_clusters) if i!=j])))\n",
    "    \n",
    "    for j in range(i+1,nr_of_clusters):\n",
    "        ltnw.axiom(\"forall ?x: ~(C_%s(?x) & C_%s(?x))\" % (i,j))\n",
    "print(\"\\n\".join(sorted(ltnw.AXIOMS.keys())))\n"
   ]
  },
  {
   "cell_type": "markdown",
   "metadata": {},
   "source": [
    "Initialize the knowledgebase and optimize. Notice that $\\mathrm{close}$ is not a very crisp predicate. Therefore reaching high sat levels is basically impossible. Hence, we never really reach sat levels near $1.0$."
   ]
  },
  {
   "cell_type": "code",
   "execution_count": 7,
   "metadata": {},
   "outputs": [
    {
     "name": "stderr",
     "output_type": "stream",
     "text": [
      "INFO:logictensornetworks_wrapper:Initializing knowledgebase\n",
      "INFO:logictensornetworks_wrapper:Initializing Tensorflow session\n",
      "INFO:logictensornetworks_wrapper:Initializing optimizer\n",
      "INFO:logictensornetworks_wrapper:Assembling feed dict\n",
      "INFO:logictensornetworks_wrapper:INITIALIZED with sat level = 0.6686284\n",
      "INFO:logictensornetworks_wrapper:TRAINING 0 sat level -----> 0.6686284\n",
      "INFO:logictensornetworks_wrapper:TRAINING 100 sat level -----> nan\n",
      "INFO:logictensornetworks_wrapper:TRAINING 200 sat level -----> nan\n",
      "INFO:logictensornetworks_wrapper:TRAINING 300 sat level -----> nan\n",
      "INFO:logictensornetworks_wrapper:TRAINING 400 sat level -----> nan\n",
      "INFO:logictensornetworks_wrapper:TRAINING 500 sat level -----> nan\n",
      "INFO:logictensornetworks_wrapper:TRAINING 600 sat level -----> nan\n",
      "INFO:logictensornetworks_wrapper:TRAINING 700 sat level -----> nan\n",
      "INFO:logictensornetworks_wrapper:TRAINING 800 sat level -----> nan\n",
      "INFO:logictensornetworks_wrapper:TRAINING 900 sat level -----> nan\n",
      "INFO:logictensornetworks_wrapper:TRAINING finished after 999 epochs with sat level nan\n"
     ]
    }
   ],
   "source": [
    "ltnw.initialize_knowledgebase(optimizer=tf.train.RMSPropOptimizer(learning_rate=0.01,decay=.9),\n",
    "                              initial_sat_level_threshold=.5)\n",
    "\n",
    "ltnw.train(max_epochs=1000);"
   ]
  },
  {
   "cell_type": "markdown",
   "metadata": {},
   "source": [
    "Visualize results"
   ]
  },
  {
   "cell_type": "code",
   "execution_count": 8,
   "metadata": {},
   "outputs": [
    {
     "data": {
      "image/png": "[encoded data removed]",
      "text/plain": [
       "<Figure size 648x432 with 5 Axes>"
      ]
     },
     "metadata": {},
     "output_type": "display_data"
    }
   ],
   "source": [
    "prC = [ltnw.ask(\"C_%s(?x)\" % i) for i in range(nr_of_clusters)]\n",
    "n = 2\n",
    "m = (nr_of_clusters + 1) // n + 1\n",
    "\n",
    "fig = plt.figure(figsize=(3 * 3, m * 3))\n",
    "\n",
    "fig.add_subplot(m, n, 1)\n",
    "plt.title(\"groundtruth\")\n",
    "for c in clusters:\n",
    "    plt.scatter(c[:, 0], c[:, 1])\n",
    "data=np.concatenate(clusters)\n",
    "x0 = data[:, 0]\n",
    "x1 = data[:, 1]\n",
    "for i in range(nr_of_clusters):\n",
    "    fig.add_subplot(m, n, i + 2)\n",
    "    plt.title(\"C\" + str(i) + \"(x)\")\n",
    "    plt.scatter(x0, x1, c=prC[i].T[0])\n",
    "    plt.scatter(x0[:2], x1[:2], s=0, c=[0, 1])\n",
    "    plt.colorbar()\n",
    "plt.show()"
   ]
  },
  {
   "cell_type": "code",
   "execution_count": null,
   "metadata": {},
   "outputs": [],
   "source": []
  }
 ],
 "metadata": {
  "kernelspec": {
   "display_name": "Python 3",
   "language": "python",
   "name": "python3"
  },
  "language_info": {
   "codemirror_mode": {
    "name": "ipython",
    "version": 3
   },
   "file_extension": ".py",
   "mimetype": "text/x-python",
   "name": "python",
   "nbconvert_exporter": "python",
   "pygments_lexer": "ipython3",
   "version": "3.8.6"
  }
 },
 "nbformat": 4,
 "nbformat_minor": 4
}
