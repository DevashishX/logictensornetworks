{
 "cells": [
  {
   "cell_type": "markdown",
   "metadata": {},
   "source": [
    "# Grounding and Learning in Logic Tensor Networks (LTN)"
   ]
  },
  {
   "cell_type": "markdown",
   "metadata": {},
   "source": [
    "LTN consists of a non-logical part (the signature) and logical connectives and quantifiers. This tutorial explains the \n",
    "Signature of LTN (non-logical symbols)\n",
    "* **constants** denote individuals from some space of real numbers $\\mathbb{R}^k$. We call this the **domain**\n",
    "* **functions** can be any mathematical function either pre-defined or learnable. Examples of functions can be distance functions, similarities etc. Functions can be defined using any computational graph in Tensorflow. They can be linear functions, Deep Neural Networks.\n",
    "* **predicates** are represented as functions that map from some n-ary domain to a real from $[0,1]$.\n",
    "* **connectives** -- not, and, or, implies -- are modeled using t-norms\n",
    "* **quantifiers** are based on domain sample aggregations\n",
    "\n",
    "This tutorial explains how to ground predicates that need to be learned (optimized). It expects some basic familiarity of the other parts of LTN."
   ]
  },
  {
   "cell_type": "code",
   "execution_count": 1,
   "metadata": {},
   "outputs": [],
   "source": [
    "# initialization. we need numpy and matplotlib\n",
    "# this tutorial uses the LTN wrapper\n",
    "import logging;logging.basicConfig(level=logging.INFO);\n",
    "import numpy as np;\n",
    "import matplotlib.pyplot as plt; \n",
    "import tensorflow as tf;\n",
    "\n",
    "# adding parent directory to sys.path (ltnw is in parent dir)\n",
    "import sys, os\n",
    "sys.path.insert(0,os.path.normpath(os.path.join(os.path.abspath(''),os.path.pardir)))\n",
    "import logictensornetworks_wrapper as ltnw;\n",
    "ltnw.SESSION=tf.InteractiveSession() # we will use an interactive session"
   ]
  },
  {
   "cell_type": "markdown",
   "metadata": {},
   "source": [
    "We use the following example. The domain is the square $[0,4]\\times [0,4]$.\n",
    "\n",
    "We have a set of examples of the class $\\color{red}A$.\n",
    "We also know that the membership function of $\\color{red}A$ is $$\\sigma(w_1\\cdot x + w_2\\cdot y + w_3)$$ with $\\sigma(x)$ the sigmoid function $\\frac{1}{1+e^{-x}}$.\n",
    "\n",
    "We now define a theory/knowledgebase, where $A$ is defined using examples. We use $\\mathrm{ltwn.axiom}$ to construct formulas that we want to hold."
   ]
  },
  {
   "cell_type": "code",
   "execution_count": 2,
   "metadata": {},
   "outputs": [
    {
     "data": {
      "text/plain": [
       "<matplotlib.legend.Legend at 0x118ea39b0>"
      ]
     },
     "execution_count": 2,
     "metadata": {},
     "output_type": "execute_result"
    },
    {
     "data": {
      "image/png": "[encoded data removed]",
      "text/plain": [
       "<Figure size 432x288 with 1 Axes>"
      ]
     },
     "metadata": {},
     "output_type": "display_data"
    }
   ],
   "source": [
    "# define variable,  \n",
    "ltnw.variable(\"?a\",[[0.4,0.3],[1.2,0.3],[2.2,1.3],[1.7,1.0],[0.5,0.5],[0.3, 1.5],[1.3, 1.1],[0.9, 1.7]]);\n",
    "\n",
    "# define predicate\n",
    "w_A = tf.Variable(np.random.randn(), name=\"weight\")\n",
    "b_A = tf.Variable(np.random.randn(), name=\"bias\")\n",
    "ltnw.predicate(\"A\",2,pred_definition=lambda x: tf.sigmoid(tf.add(tf.reduce_sum(tf.multiply(x,w_A),axis=1),b_A)))\n",
    "\n",
    "# assert that for all ?a, A holds\n",
    "ltnw.axiom(\"forall ?a: A(?a)\")\n",
    "\n",
    "# show variable individuals as points\n",
    "fig, ax = plt.subplots();plt.xlim(0,4);plt.ylim(0,4);\n",
    "plt.scatter(ltnw.variable(\"?a\").eval()[:,0],ltnw.variable(\"?a\").eval()[:,1],color=\"red\",label=\"?a\")\n",
    "plt.legend()"
   ]
  },
  {
   "cell_type": "markdown",
   "metadata": {},
   "source": [
    "We have a set of examples of the class $\\color{blue}B$. The membership function of $\\color{blue}B$ is the same as for $\\color{red}A$"
   ]
  },
  {
   "cell_type": "code",
   "execution_count": 3,
   "metadata": {},
   "outputs": [
    {
     "data": {
      "text/plain": [
       "<matplotlib.legend.Legend at 0x119003400>"
      ]
     },
     "execution_count": 3,
     "metadata": {},
     "output_type": "execute_result"
    },
    {
     "data": {
      "image/png": "[encoded data removed]",
      "text/plain": [
       "<Figure size 432x288 with 1 Axes>"
      ]
     },
     "metadata": {},
     "output_type": "display_data"
    }
   ],
   "source": [
    "# define variable\n",
    "ltnw.variable(\"?b\",[[3.4,3.3],[3.2,3.3],[3.2,2.3],[2.7,2.0],[3.5,3.5],[3.3, 2.5],[3.3, 1.1],[1.9, 3.7],[1.3, 3.5],[3.3, 1.1],[3.9, 3.7]])\n",
    "\n",
    "# define predicate\n",
    "w_B = tf.Variable(np.random.randn(), name=\"weight\")\n",
    "b_B = tf.Variable(np.random.randn(), name=\"bias\")\n",
    "ltnw.predicate(\"B\",2,pred_definition=lambda x: tf.sigmoid(tf.add(tf.reduce_sum(tf.multiply(x,w_B),axis=1),b_B)))\n",
    "\n",
    "# define that for all ?b B holds\n",
    "ltnw.axiom(\"forall ?b: B(?b)\")\n",
    "\n",
    "# show variable individuals as points\n",
    "fig, ax = plt.subplots();plt.xlim(0,4);plt.ylim(0,4);\n",
    "plt.scatter(ltnw.variable(\"?a\").eval()[:,0],ltnw.variable(\"?a\").eval()[:,1],color=\"red\",label=\"?a\")\n",
    "plt.scatter(ltnw.variable(\"?b\").eval()[:,0],ltnw.variable(\"?b\").eval()[:,1],color=\"blue\",label=\"?b\")\n",
    "plt.legend()"
   ]
  },
  {
   "cell_type": "markdown",
   "metadata": {},
   "source": [
    "We know $\\color{red}A$ and $\\color{blue}B$ are disjoint"
   ]
  },
  {
   "cell_type": "code",
   "execution_count": 4,
   "metadata": {},
   "outputs": [],
   "source": [
    "ltnw.variable(\"?x\",np.concatenate([ltnw.variable(\"?a\").eval(),ltnw.variable(\"?b\").eval()],axis=0))\n",
    "\n",
    "ltnw.axiom(\"forall ?x: A(?x) -> ~B(?x)\");\n",
    "ltnw.axiom(\"forall ?x: ~A(?x) -> B(?x)\");\n",
    "ltnw.axiom(\"forall ?x: B(?x) -> ~A(?x)\");\n",
    "ltnw.axiom(\"forall ?x: ~B(?x) -> A(?x)\");"
   ]
  },
  {
   "cell_type": "markdown",
   "metadata": {},
   "source": [
    "So here is our theory"
   ]
  },
  {
   "cell_type": "code",
   "execution_count": 5,
   "metadata": {},
   "outputs": [
    {
     "name": "stdout",
     "output_type": "stream",
     "text": [
      "forall ?a: A(?a)\n",
      "forall ?b: B(?b)\n",
      "forall ?x: A(?x) -> ~B(?x)\n",
      "forall ?x: B(?x) -> ~A(?x)\n",
      "forall ?x: ~A(?x) -> B(?x)\n",
      "forall ?x: ~B(?x) -> A(?x)\n"
     ]
    }
   ],
   "source": [
    "print(\"\\n\".join(sorted(ltnw.AXIOMS.keys())))"
   ]
  },
  {
   "cell_type": "markdown",
   "metadata": {},
   "source": [
    "We can now optimize the knowledgebase to maximize satisfiability of the formulas"
   ]
  },
  {
   "cell_type": "code",
   "execution_count": 6,
   "metadata": {},
   "outputs": [
    {
     "name": "stdout",
     "output_type": "stream",
     "text": [
      "initial satisfiability level 0.83\n"
     ]
    }
   ],
   "source": [
    "# aggregate formulas\n",
    "aggregated_formulas=tf.reduce_mean(tf.concat(list(ltnw.AXIOMS.values()),axis=0))\n",
    "# choose an optimizer\n",
    "optimizer = tf.train.GradientDescentOptimizer(learning_rate=0.1)\n",
    "\n",
    "# turn satisfiability into loss\n",
    "loss=optimizer.minimize(-aggregated_formulas)\n",
    "\n",
    "# initialize all Tensorflow variables/parameters (w_A,b_A,w_B,b_B)\n",
    "ltnw.SESSION.run(tf.global_variables_initializer())\n",
    "print(\"initial satisfiability level %.2f\" % ltnw.SESSION.run(aggregated_formulas))"
   ]
  },
  {
   "cell_type": "code",
   "execution_count": 7,
   "metadata": {},
   "outputs": [
    {
     "name": "stderr",
     "output_type": "stream",
     "text": [
      "INFO:__main__:TRAINING 0 sat level -----> 0.8335902\n",
      "INFO:__main__:TRAINING 100 sat level -----> 0.8499883\n",
      "INFO:__main__:TRAINING 200 sat level -----> 0.88080096\n",
      "INFO:__main__:TRAINING 300 sat level -----> 0.8980463\n",
      "INFO:__main__:TRAINING 400 sat level -----> 0.903495\n",
      "INFO:__main__:TRAINING 500 sat level -----> 0.90305096\n",
      "INFO:__main__:TRAINING 600 sat level -----> 0.9067624\n",
      "INFO:__main__:TRAINING 700 sat level -----> 0.9075987\n",
      "INFO:__main__:TRAINING 800 sat level -----> 0.9077949\n",
      "INFO:__main__:TRAINING 900 sat level -----> 0.9114159\n",
      "INFO:__main__:TRAINING 1000 sat level -----> 0.91313\n",
      "INFO:__main__:TRAINING 1100 sat level -----> 0.91581935\n",
      "INFO:__main__:TRAINING 1200 sat level -----> 0.9152872\n",
      "INFO:__main__:TRAINING 1300 sat level -----> 0.9198215\n",
      "INFO:__main__:TRAINING 1400 sat level -----> 0.92178893\n",
      "INFO:__main__:TRAINING 1500 sat level -----> 0.9211448\n",
      "INFO:__main__:TRAINING 1600 sat level -----> 0.9245048\n",
      "INFO:__main__:TRAINING 1700 sat level -----> 0.92562646\n",
      "INFO:__main__:TRAINING 1800 sat level -----> 0.92643267\n",
      "INFO:__main__:TRAINING 1900 sat level -----> 0.92673826\n",
      "INFO:__main__:TRAINING 2000 sat level -----> 0.92712134\n",
      "INFO:__main__:TRAINING 2100 sat level -----> 0.9282427\n",
      "INFO:__main__:TRAINING 2200 sat level -----> 0.9294606\n",
      "INFO:__main__:TRAINING 2300 sat level -----> 0.930535\n",
      "INFO:__main__:TRAINING 2400 sat level -----> 0.93171805\n",
      "INFO:__main__:TRAINING 2500 sat level -----> 0.93274397\n",
      "INFO:__main__:TRAINING 2600 sat level -----> 0.93373036\n",
      "INFO:__main__:TRAINING 2700 sat level -----> 0.93462473\n",
      "INFO:__main__:TRAINING 2800 sat level -----> 0.9355831\n",
      "INFO:__main__:TRAINING 2900 sat level -----> 0.9364545\n",
      "INFO:__main__:TRAINING 3000 sat level -----> 0.9373109\n",
      "INFO:__main__:TRAINING 3100 sat level -----> 0.9381628\n",
      "INFO:__main__:TRAINING 3200 sat level -----> 0.9389661\n",
      "INFO:__main__:TRAINING 3300 sat level -----> 0.9397438\n",
      "INFO:__main__:TRAINING 3400 sat level -----> 0.94048023\n",
      "INFO:__main__:TRAINING 3500 sat level -----> 0.941197\n",
      "INFO:__main__:TRAINING 3600 sat level -----> 0.94189936\n",
      "INFO:__main__:TRAINING 3700 sat level -----> 0.9425761\n",
      "INFO:__main__:TRAINING 3800 sat level -----> 0.94458246\n",
      "INFO:__main__:TRAINING 3900 sat level -----> 0.9455134\n",
      "INFO:__main__:TRAINING 4000 sat level -----> 0.94529754\n",
      "INFO:__main__:TRAINING 4100 sat level -----> 0.9457691\n",
      "INFO:__main__:TRAINING 4200 sat level -----> 0.94644254\n",
      "INFO:__main__:TRAINING 4300 sat level -----> 0.9476893\n",
      "INFO:__main__:TRAINING 4400 sat level -----> 0.94762963\n",
      "INFO:__main__:TRAINING 4500 sat level -----> 0.9480526\n",
      "INFO:__main__:TRAINING 4600 sat level -----> 0.94859344\n",
      "INFO:__main__:TRAINING 4700 sat level -----> 0.9497686\n",
      "INFO:__main__:TRAINING 4800 sat level -----> 0.9496818\n",
      "INFO:__main__:TRAINING 4900 sat level -----> 0.9505444\n"
     ]
    }
   ],
   "source": [
    "track_sat_levels=100\n",
    "for i in range(5000):\n",
    "    if i % track_sat_levels == 0:\n",
    "        sat_level=ltnw.SESSION.run(aggregated_formulas)\n",
    "        logging.getLogger(__name__).info(\"TRAINING %s sat level -----> %s\" % (i,sat_level))\n",
    "\n",
    "    ltnw.SESSION.run(loss)\n"
   ]
  },
  {
   "cell_type": "markdown",
   "metadata": {},
   "source": [
    "We can now ask a series of questions (queries). The first way is to query the knowledgebase is to generate a formula and then just call eval (which is executed in a Tensorflow Interactive session)."
   ]
  },
  {
   "cell_type": "code",
   "execution_count": 8,
   "metadata": {},
   "outputs": [
    {
     "data": {
      "text/plain": [
       "array([0.81416804], dtype=float32)"
      ]
     },
     "execution_count": 8,
     "metadata": {},
     "output_type": "execute_result"
    }
   ],
   "source": [
    "ltnw.axiom(\"forall ?a: A(?a)\").eval()"
   ]
  },
  {
   "cell_type": "markdown",
   "metadata": {},
   "source": [
    "Another way of querying the knowledgebase is to use the ltnw ask function. Here we query whether $A$ holds for all positive examples for $B$."
   ]
  },
  {
   "cell_type": "code",
   "execution_count": 9,
   "metadata": {},
   "outputs": [
    {
     "data": {
      "text/plain": [
       "array([0.01895745], dtype=float32)"
      ]
     },
     "execution_count": 9,
     "metadata": {},
     "output_type": "execute_result"
    }
   ],
   "source": [
    "ltnw.ask(\"forall ?b: A(?b)\")"
   ]
  },
  {
   "cell_type": "markdown",
   "metadata": {},
   "source": [
    "Here we query whether $B$ holds for all positive examples for $B$."
   ]
  },
  {
   "cell_type": "code",
   "execution_count": 10,
   "metadata": {},
   "outputs": [
    {
     "data": {
      "text/plain": [
       "array([0.8966524], dtype=float32)"
      ]
     },
     "execution_count": 10,
     "metadata": {},
     "output_type": "execute_result"
    }
   ],
   "source": [
    "ltnw.ask(\"forall ?b: B(?b)\")"
   ]
  },
  {
   "cell_type": "markdown",
   "metadata": {},
   "source": [
    "Here we query whether $A$ holds for all positive examples for $B$."
   ]
  },
  {
   "cell_type": "code",
   "execution_count": 11,
   "metadata": {},
   "outputs": [
    {
     "data": {
      "text/plain": [
       "array([0.01895745], dtype=float32)"
      ]
     },
     "execution_count": 11,
     "metadata": {},
     "output_type": "execute_result"
    }
   ],
   "source": [
    "ltnw.ask(\"forall ?b: A(?b)\")"
   ]
  },
  {
   "cell_type": "markdown",
   "metadata": {},
   "source": [
    "Here we query whether $A$ holds for all samples."
   ]
  },
  {
   "cell_type": "code",
   "execution_count": 12,
   "metadata": {},
   "outputs": [
    {
     "data": {
      "text/plain": [
       "array([0.9998336], dtype=float32)"
      ]
     },
     "execution_count": 12,
     "metadata": {},
     "output_type": "execute_result"
    }
   ],
   "source": [
    "ltnw.ask(\"forall ?x: A(?x) -> ~B(?x)\")"
   ]
  },
  {
   "cell_type": "markdown",
   "metadata": {},
   "source": [
    "Here we query whether $B$ implies not $A$ holds for all samples."
   ]
  },
  {
   "cell_type": "code",
   "execution_count": 13,
   "metadata": {},
   "outputs": [
    {
     "data": {
      "text/plain": [
       "array([0.9998336], dtype=float32)"
      ]
     },
     "execution_count": 13,
     "metadata": {},
     "output_type": "execute_result"
    }
   ],
   "source": [
    "ltnw.ask(\"forall ?x: B(?x) -> ~A(?x)\")"
   ]
  },
  {
   "cell_type": "markdown",
   "metadata": {},
   "source": [
    "Here we query whether $B$ holds for all samples."
   ]
  },
  {
   "cell_type": "code",
   "execution_count": 14,
   "metadata": {},
   "outputs": [
    {
     "data": {
      "text/plain": [
       "array([0.12482198], dtype=float32)"
      ]
     },
     "execution_count": 14,
     "metadata": {},
     "output_type": "execute_result"
    }
   ],
   "source": [
    "ltnw.ask(\"forall ?x: B(?x)\")"
   ]
  },
  {
   "cell_type": "markdown",
   "metadata": {},
   "source": [
    "Here we query whether $A$ holds for all samples."
   ]
  },
  {
   "cell_type": "code",
   "execution_count": 15,
   "metadata": {},
   "outputs": [
    {
     "data": {
      "text/plain": [
       "array([0.03219942], dtype=float32)"
      ]
     },
     "execution_count": 15,
     "metadata": {},
     "output_type": "execute_result"
    }
   ],
   "source": [
    "ltnw.ask(\"forall ?x: A(?x)\")"
   ]
  },
  {
   "cell_type": "markdown",
   "metadata": {},
   "source": [
    "Here we query whether $A$ or $B$ holds for all samples."
   ]
  },
  {
   "cell_type": "code",
   "execution_count": 16,
   "metadata": {},
   "outputs": [
    {
     "data": {
      "text/plain": [
       "array([0.9999982], dtype=float32)"
      ]
     },
     "execution_count": 16,
     "metadata": {},
     "output_type": "execute_result"
    }
   ],
   "source": [
    "ltnw.ask(\"forall ?x: A(?x) | B(?x)\")"
   ]
  }
 ],
 "metadata": {
  "kernelspec": {
   "display_name": "Python 3",
   "language": "python",
   "name": "python3"
  },
  "language_info": {
   "codemirror_mode": {
    "name": "ipython",
    "version": 3
   },
   "file_extension": ".py",
   "mimetype": "text/x-python",
   "name": "python",
   "nbconvert_exporter": "python",
   "pygments_lexer": "ipython3",
   "version": "3.8.6"
  }
 },
 "nbformat": 4,
 "nbformat_minor": 4
}
